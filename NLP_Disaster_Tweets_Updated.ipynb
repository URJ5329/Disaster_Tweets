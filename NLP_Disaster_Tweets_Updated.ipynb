{
  "nbformat": 4,
  "nbformat_minor": 0,
  "metadata": {
    "colab": {
      "name": "NLP_Disaster_Tweets_Updated.ipynb",
      "provenance": [],
      "collapsed_sections": []
    },
    "kernelspec": {
      "name": "python3",
      "display_name": "Python 3"
    },
    "language_info": {
      "name": "python"
    }
  },
  "cells": [
    {
      "cell_type": "markdown",
      "metadata": {
        "id": "gtFvdfyI8Rj9"
      },
      "source": [
        "Importing Libraries"
      ]
    },
    {
      "cell_type": "code",
      "metadata": {
        "colab": {
          "base_uri": "https://localhost:8080/"
        },
        "id": "qXQp14J49P7H",
        "outputId": "c2b9b03c-a4ce-41aa-ca12-7cb4de32e6c9"
      },
      "source": [
        "!pip install nlppreprocess"
      ],
      "execution_count": 30,
      "outputs": [
        {
          "output_type": "stream",
          "text": [
            "Requirement already satisfied: nlppreprocess in /usr/local/lib/python3.7/dist-packages (1.0.2)\n"
          ],
          "name": "stdout"
        }
      ]
    },
    {
      "cell_type": "code",
      "metadata": {
        "id": "lIXD7Dir7zfT"
      },
      "source": [
        "import numpy as np\n",
        "import pandas as pd\n",
        "import matplotlib.pyplot as plt\n",
        "import seaborn as sns\n",
        "sns.set_style(style='darkgrid')\n",
        "\n",
        "import re\n",
        "import string\n",
        "import nltk\n",
        "from nltk.stem.snowball import SnowballStemmer\n",
        "\n",
        "from sklearn.naive_bayes import MultinomialNB\n",
        "from sklearn.feature_extraction.text import TfidfVectorizer\n",
        "from sklearn.model_selection import GridSearchCV\n",
        "\n",
        "from nlppreprocess import NLP\n",
        "\n",
        "import warnings\n",
        "warnings.filterwarnings('ignore')"
      ],
      "execution_count": 31,
      "outputs": []
    },
    {
      "cell_type": "markdown",
      "metadata": {
        "id": "COX0AvW792I1"
      },
      "source": [
        "Reading datasets"
      ]
    },
    {
      "cell_type": "code",
      "metadata": {
        "id": "5_OeC3Zo9fpq"
      },
      "source": [
        "train = pd.read_csv('train.csv')\n",
        "test = pd.read_csv('test.csv')\n",
        "sample = pd.read_csv('sample_submission.csv')"
      ],
      "execution_count": 32,
      "outputs": []
    },
    {
      "cell_type": "code",
      "metadata": {
        "colab": {
          "base_uri": "https://localhost:8080/",
          "height": 142
        },
        "id": "WvJ769SP9yfr",
        "outputId": "135f5294-d978-43a1-ffc7-d1e1d6354e51"
      },
      "source": [
        "train.head(3)"
      ],
      "execution_count": 33,
      "outputs": [
        {
          "output_type": "execute_result",
          "data": {
            "text/html": [
              "<div>\n",
              "<style scoped>\n",
              "    .dataframe tbody tr th:only-of-type {\n",
              "        vertical-align: middle;\n",
              "    }\n",
              "\n",
              "    .dataframe tbody tr th {\n",
              "        vertical-align: top;\n",
              "    }\n",
              "\n",
              "    .dataframe thead th {\n",
              "        text-align: right;\n",
              "    }\n",
              "</style>\n",
              "<table border=\"1\" class=\"dataframe\">\n",
              "  <thead>\n",
              "    <tr style=\"text-align: right;\">\n",
              "      <th></th>\n",
              "      <th>id</th>\n",
              "      <th>keyword</th>\n",
              "      <th>location</th>\n",
              "      <th>text</th>\n",
              "      <th>target</th>\n",
              "    </tr>\n",
              "  </thead>\n",
              "  <tbody>\n",
              "    <tr>\n",
              "      <th>0</th>\n",
              "      <td>1</td>\n",
              "      <td>NaN</td>\n",
              "      <td>NaN</td>\n",
              "      <td>Our Deeds are the Reason of this #earthquake M...</td>\n",
              "      <td>1</td>\n",
              "    </tr>\n",
              "    <tr>\n",
              "      <th>1</th>\n",
              "      <td>4</td>\n",
              "      <td>NaN</td>\n",
              "      <td>NaN</td>\n",
              "      <td>Forest fire near La Ronge Sask. Canada</td>\n",
              "      <td>1</td>\n",
              "    </tr>\n",
              "    <tr>\n",
              "      <th>2</th>\n",
              "      <td>5</td>\n",
              "      <td>NaN</td>\n",
              "      <td>NaN</td>\n",
              "      <td>All residents asked to 'shelter in place' are ...</td>\n",
              "      <td>1</td>\n",
              "    </tr>\n",
              "  </tbody>\n",
              "</table>\n",
              "</div>"
            ],
            "text/plain": [
              "   id keyword  ...                                               text target\n",
              "0   1     NaN  ...  Our Deeds are the Reason of this #earthquake M...      1\n",
              "1   4     NaN  ...             Forest fire near La Ronge Sask. Canada      1\n",
              "2   5     NaN  ...  All residents asked to 'shelter in place' are ...      1\n",
              "\n",
              "[3 rows x 5 columns]"
            ]
          },
          "metadata": {
            "tags": []
          },
          "execution_count": 33
        }
      ]
    },
    {
      "cell_type": "markdown",
      "metadata": {
        "id": "5lBZ7Oah-2Is"
      },
      "source": [
        "Data visualization"
      ]
    },
    {
      "cell_type": "code",
      "metadata": {
        "colab": {
          "base_uri": "https://localhost:8080/",
          "height": 281
        },
        "id": "vWiyEtL2-dJj",
        "outputId": "d8836039-1f5e-47c6-aa93-6a1b80d548cc"
      },
      "source": [
        "sns.barplot(train.target.value_counts().index,train.target.value_counts())\n",
        "plt.title('count of disaster and non-disaster tweets')\n",
        "plt.show()"
      ],
      "execution_count": 34,
      "outputs": [
        {
          "output_type": "display_data",
          "data": {
            "image/png": "[encoded data removed]",
            "text/plain": [
              "<Figure size 432x288 with 1 Axes>"
            ]
          },
          "metadata": {
            "tags": []
          }
        }
      ]
    },
    {
      "cell_type": "code",
      "metadata": {
        "colab": {
          "base_uri": "https://localhost:8080/",
          "height": 404
        },
        "id": "nfQc2SW4-82s",
        "outputId": "27a00a65-d49b-4fe2-bbfc-30abda3d0e5b"
      },
      "source": [
        "plt.figure(figsize=(6,6))\n",
        "sns.barplot(y=train.keyword.value_counts().index[:15],x=train.keyword.value_counts()[:15])\n",
        "plt.title('top 15 most used keywords')\n",
        "plt.show()"
      ],
      "execution_count": 35,
      "outputs": [
        {
          "output_type": "display_data",
          "data": {
            "image/png": "[encoded data removed]",
            "text/plain": [
              "<Figure size 432x432 with 1 Axes>"
            ]
          },
          "metadata": {
            "tags": []
          }
        }
      ]
    },
    {
      "cell_type": "code",
      "metadata": {
        "colab": {
          "base_uri": "https://localhost:8080/",
          "height": 404
        },
        "id": "LwJbRZIr_CfF",
        "outputId": "b088ee50-4c96-4c08-c017-14292824b065"
      },
      "source": [
        "plt.figure(figsize=(6,6))\n",
        "sns.barplot(y=train.location.value_counts().index[:15],x=train.location.value_counts()[:15])\n",
        "plt.title('top 15 locations')\n",
        "plt.show()"
      ],
      "execution_count": 36,
      "outputs": [
        {
          "output_type": "display_data",
          "data": {
            "image/png": "[encoded data removed]",
            "text/plain": [
              "<Figure size 432x432 with 1 Axes>"
            ]
          },
          "metadata": {
            "tags": []
          }
        }
      ]
    },
    {
      "cell_type": "code",
      "metadata": {
        "id": "T-Fx7s34Jmq6"
      },
      "source": [
        "train.drop(columns=['location','keyword'],inplace=True)\n",
        "test.drop(columns=['location','keyword'],inplace=True)"
      ],
      "execution_count": 37,
      "outputs": []
    },
    {
      "cell_type": "markdown",
      "metadata": {
        "id": "xk-Jd782BKvO"
      },
      "source": [
        "Text Preprocessing"
      ]
    },
    {
      "cell_type": "code",
      "metadata": {
        "id": "7lLvRR3NAwwx"
      },
      "source": [
        "def lowercase_text(text):\n",
        "    return text.lower()\n",
        "\n",
        "train.text=train.text.apply(lambda x: lowercase_text(x))\n",
        "test.text=test.text.apply(lambda x: lowercase_text(x))"
      ],
      "execution_count": 38,
      "outputs": []
    },
    {
      "cell_type": "code",
      "metadata": {
        "id": "Sa0gx0yqBd3U"
      },
      "source": [
        "nlp = NLP()\n",
        "train['text'] = train['text'].apply(nlp.process)\n",
        "test['text'] = test['text'].apply(nlp.process) "
      ],
      "execution_count": 39,
      "outputs": []
    },
    {
      "cell_type": "code",
      "metadata": {
        "colab": {
          "base_uri": "https://localhost:8080/"
        },
        "id": "_SSy3YrBDYtu",
        "outputId": "538bf882-8a16-4ceb-f17e-e2368f2fad66"
      },
      "source": [
        "train.text.head(3)"
      ],
      "execution_count": 40,
      "outputs": [
        {
          "output_type": "execute_result",
          "data": {
            "text/plain": [
              "0    our deeds are reason  earthquake may allah for...\n",
              "1               forest fire near la ronge sask  canada\n",
              "2    residents asked  shelter in place  are being n...\n",
              "Name: text, dtype: object"
            ]
          },
          "metadata": {
            "tags": []
          },
          "execution_count": 40
        }
      ]
    },
    {
      "cell_type": "code",
      "metadata": {
        "id": "Lt1c4qPpDfxk"
      },
      "source": [
        "stemmer = SnowballStemmer(\"english\")\n",
        "\n",
        "def stemming(text):\n",
        "  text = [stemmer.stem(word) for word in text.split()]\n",
        "  return ' '.join(text)\n",
        "\n",
        "train.text = train.text.apply(stemming)\n",
        "test.text = test.text.apply(stemming)"
      ],
      "execution_count": 41,
      "outputs": []
    },
    {
      "cell_type": "code",
      "metadata": {
        "id": "0Xhj03d8Ekb6"
      },
      "source": [
        "vectorizer = TfidfVectorizer()\n",
        "vectorizer.fit(train.text)\n",
        "\n",
        "train_text_vec = vectorizer.fit_transform(train.text)\n",
        "test_text_vec = vectorizer.transform(test.text)"
      ],
      "execution_count": 42,
      "outputs": []
    },
    {
      "cell_type": "markdown",
      "metadata": {
        "id": "q-JwJRD0G-iS"
      },
      "source": [
        "Modelling"
      ]
    },
    {
      "cell_type": "code",
      "metadata": {
        "id": "CQqgtd87F2A3"
      },
      "source": [
        "y = train.target"
      ],
      "execution_count": 43,
      "outputs": []
    },
    {
      "cell_type": "code",
      "metadata": {
        "id": "pYWnZJRgG0uF",
        "colab": {
          "base_uri": "https://localhost:8080/"
        },
        "outputId": "3a2f5b8d-4a92-476f-c6db-6101164fb070"
      },
      "source": [
        "classifier = MultinomialNB()\n",
        "params = {\n",
        "    'alpha' : [0.1,0.2,0.3,0.4,0.45,0.5,0.6,0.7,0.8,0.9,1.0,2.0,3.0,5.0,7.0,10.0],\n",
        "    'class_prior' : [None,[0.01,0.99],[0.1,0.9],[0.2,0.8],[0.25,0.75]],\n",
        "    \n",
        "}\n",
        "grid_cv = GridSearchCV(estimator = classifier,\n",
        "                        param_grid = params,\n",
        "                        scoring = 'f1', \n",
        "                        cv = 20, \n",
        "                        verbose = 1,\n",
        "                        n_jobs = -1)\n",
        "grid_cv.fit(train_text_vec,y)\n",
        "print(grid_cv.best_estimator_)"
      ],
      "execution_count": 48,
      "outputs": [
        {
          "output_type": "stream",
          "text": [
            "Fitting 20 folds for each of 80 candidates, totalling 1600 fits\n"
          ],
          "name": "stdout"
        },
        {
          "output_type": "stream",
          "text": [
            "[Parallel(n_jobs=-1)]: Using backend LokyBackend with 2 concurrent workers.\n",
            "[Parallel(n_jobs=-1)]: Done 540 tasks      | elapsed:    3.4s\n"
          ],
          "name": "stderr"
        },
        {
          "output_type": "stream",
          "text": [
            "MultinomialNB(alpha=0.3, class_prior=None, fit_prior=True)\n"
          ],
          "name": "stdout"
        },
        {
          "output_type": "stream",
          "text": [
            "[Parallel(n_jobs=-1)]: Done 1600 out of 1600 | elapsed:   10.0s finished\n"
          ],
          "name": "stderr"
        }
      ]
    },
    {
      "cell_type": "code",
      "metadata": {
        "id": "t0QW9TIDHsOP"
      },
      "source": [
        "classifier = MultinomialNB(alpha=0.3,fit_prior=True,class_prior=None)\n",
        "classifier.fit(train_text_vec,y)\n",
        "sample.target = classifier.predict(test_text_vec)"
      ],
      "execution_count": 49,
      "outputs": []
    },
    {
      "cell_type": "code",
      "metadata": {
        "colab": {
          "base_uri": "https://localhost:8080/",
          "height": 142
        },
        "id": "Y6Lu8k4eIjBV",
        "outputId": "dd0d3589-1653-48a3-d5f5-07a4a5edeb9f"
      },
      "source": [
        "sample.head(3)"
      ],
      "execution_count": 50,
      "outputs": [
        {
          "output_type": "execute_result",
          "data": {
            "text/html": [
              "<div>\n",
              "<style scoped>\n",
              "    .dataframe tbody tr th:only-of-type {\n",
              "        vertical-align: middle;\n",
              "    }\n",
              "\n",
              "    .dataframe tbody tr th {\n",
              "        vertical-align: top;\n",
              "    }\n",
              "\n",
              "    .dataframe thead th {\n",
              "        text-align: right;\n",
              "    }\n",
              "</style>\n",
              "<table border=\"1\" class=\"dataframe\">\n",
              "  <thead>\n",
              "    <tr style=\"text-align: right;\">\n",
              "      <th></th>\n",
              "      <th>id</th>\n",
              "      <th>target</th>\n",
              "    </tr>\n",
              "  </thead>\n",
              "  <tbody>\n",
              "    <tr>\n",
              "      <th>0</th>\n",
              "      <td>0</td>\n",
              "      <td>1</td>\n",
              "    </tr>\n",
              "    <tr>\n",
              "      <th>1</th>\n",
              "      <td>2</td>\n",
              "      <td>0</td>\n",
              "    </tr>\n",
              "    <tr>\n",
              "      <th>2</th>\n",
              "      <td>3</td>\n",
              "      <td>1</td>\n",
              "    </tr>\n",
              "  </tbody>\n",
              "</table>\n",
              "</div>"
            ],
            "text/plain": [
              "   id  target\n",
              "0   0       1\n",
              "1   2       0\n",
              "2   3       1"
            ]
          },
          "metadata": {
            "tags": []
          },
          "execution_count": 50
        }
      ]
    },
    {
      "cell_type": "code",
      "metadata": {
        "id": "mvxs7xw-Ilad"
      },
      "source": [
        "sample.to_csv('submission.csv',index=False)"
      ],
      "execution_count": 51,
      "outputs": []
    },
    {
      "cell_type": "code",
      "metadata": {
        "id": "1pUfO8xsIsYX"
      },
      "source": [
        ""
      ],
      "execution_count": 47,
      "outputs": []
    }
  ]
}